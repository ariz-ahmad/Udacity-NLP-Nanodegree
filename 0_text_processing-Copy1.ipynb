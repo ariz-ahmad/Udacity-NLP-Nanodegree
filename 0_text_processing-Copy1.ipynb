{
 "cells": [
  {
   "cell_type": "markdown",
   "metadata": {},
   "source": [
    "# Text Processing\n",
    "\n",
    "## Capturing Text Data\n",
    "\n",
    "### Plain Text"
   ]
  },
  {
   "cell_type": "code",
   "execution_count": 2,
   "metadata": {},
   "outputs": [
    {
     "name": "stdout",
     "output_type": "stream",
     "text": [
      "Hieroglyphic writing dates from c. 3000 BC, and is composed of hundreds of symbols. A hieroglyph can represent a word, a sound, or a silent determinative; and the same symbol can serve different purposes in different contexts. Hieroglyphs were a formal script, used on stone monuments and in tombs, that could be as detailed as individual works of art.\n",
      "\n"
     ]
    }
   ],
   "source": [
    "import os\n",
    "\n",
    "# Read in a plain text file\n",
    "with open(os.path.join(\"data\", \"hieroglyph.txt\"), \"r\") as f:\n",
    "    text = f.read()\n",
    "    print(text)"
   ]
  },
  {
   "cell_type": "markdown",
   "metadata": {},
   "source": [
    "### Tabular Data"
   ]
  },
  {
   "cell_type": "code",
   "execution_count": 4,
   "metadata": {
    "scrolled": true
   },
   "outputs": [
    {
     "data": {
      "text/html": [
       "<div>\n",
       "<style scoped>\n",
       "    .dataframe tbody tr th:only-of-type {\n",
       "        vertical-align: middle;\n",
       "    }\n",
       "\n",
       "    .dataframe tbody tr th {\n",
       "        vertical-align: top;\n",
       "    }\n",
       "\n",
       "    .dataframe thead th {\n",
       "        text-align: right;\n",
       "    }\n",
       "</style>\n",
       "<table border=\"1\" class=\"dataframe\">\n",
       "  <thead>\n",
       "    <tr style=\"text-align: right;\">\n",
       "      <th></th>\n",
       "      <th>publisher</th>\n",
       "      <th>title</th>\n",
       "    </tr>\n",
       "  </thead>\n",
       "  <tbody>\n",
       "    <tr>\n",
       "      <th>0</th>\n",
       "      <td>Livemint</td>\n",
       "      <td>fed's charles plosser sees high bar for change...</td>\n",
       "    </tr>\n",
       "    <tr>\n",
       "      <th>1</th>\n",
       "      <td>IFA Magazine</td>\n",
       "      <td>us open: stocks fall after fed official hints ...</td>\n",
       "    </tr>\n",
       "    <tr>\n",
       "      <th>2</th>\n",
       "      <td>IFA Magazine</td>\n",
       "      <td>fed risks falling 'behind the curve', charles ...</td>\n",
       "    </tr>\n",
       "    <tr>\n",
       "      <th>3</th>\n",
       "      <td>Moneynews</td>\n",
       "      <td>fed's plosser: nasty weather has curbed job gr...</td>\n",
       "    </tr>\n",
       "    <tr>\n",
       "      <th>4</th>\n",
       "      <td>NASDAQ</td>\n",
       "      <td>plosser: fed may have to accelerate tapering pace</td>\n",
       "    </tr>\n",
       "  </tbody>\n",
       "</table>\n",
       "</div>"
      ],
      "text/plain": [
       "      publisher                                              title\n",
       "0      Livemint  fed's charles plosser sees high bar for change...\n",
       "1  IFA Magazine  us open: stocks fall after fed official hints ...\n",
       "2  IFA Magazine  fed risks falling 'behind the curve', charles ...\n",
       "3     Moneynews  fed's plosser: nasty weather has curbed job gr...\n",
       "4        NASDAQ  plosser: fed may have to accelerate tapering pace"
      ]
     },
     "execution_count": 4,
     "metadata": {},
     "output_type": "execute_result"
    }
   ],
   "source": [
    "import pandas as pd\n",
    "\n",
    "# Extract text column from a dataframe\n",
    "df = pd.read_csv(os.path.join(\"data\", \"news.csv\"))\n",
    "df.head()[['publisher', 'title']]\n",
    "\n",
    "# Convert text column to lowercase\n",
    "df['title'] = df['title'].str.lower()\n",
    "df.head()[['publisher', 'title']]"
   ]
  },
  {
   "cell_type": "markdown",
   "metadata": {},
   "source": [
    "### Online Resource"
   ]
  },
  {
   "cell_type": "code",
   "execution_count": 5,
   "metadata": {
    "scrolled": true
   },
   "outputs": [
    {
     "name": "stdout",
     "output_type": "stream",
     "text": [
      "{\n",
      "    \"success\": {\n",
      "        \"total\": 1\n",
      "    },\n",
      "    \"contents\": {\n",
      "        \"quotes\": [\n",
      "            {\n",
      "                \"quote\": \"Extend beyond your preconceived limits!\",\n",
      "                \"length\": \"39\",\n",
      "                \"author\": \"Lorii Myers\",\n",
      "                \"tags\": [\n",
      "                    \"confidence\",\n",
      "                    \"inspire\",\n",
      "                    \"limit\",\n",
      "                    \"self-improvement\"\n",
      "                ],\n",
      "                \"category\": \"inspire\",\n",
      "                \"language\": \"en\",\n",
      "                \"date\": \"2020-06-12\",\n",
      "                \"permalink\": \"https://theysaidso.com/quote/lorii-myers-extend-beyond-your-preconceived-limits\",\n",
      "                \"id\": \"JRlytEdrKdV8iSCZCSEh6weF\",\n",
      "                \"background\": \"https://theysaidso.com/img/qod/qod-inspire.jpg\",\n",
      "                \"title\": \"Inspiring Quote of the day\"\n",
      "            }\n",
      "        ]\n",
      "    },\n",
      "    \"baseurl\": \"https://theysaidso.com\",\n",
      "    \"copyright\": {\n",
      "        \"year\": 2022,\n",
      "        \"url\": \"https://theysaidso.com\"\n",
      "    }\n",
      "}\n",
      "Extend beyond your preconceived limits! \n",
      "-- Lorii Myers\n"
     ]
    }
   ],
   "source": [
    "import requests\n",
    "import json\n",
    "\n",
    "# Fetch data from a REST API\n",
    "r = requests.get(\n",
    "    \"https://quotes.rest/qod.json\")\n",
    "res = r.json()\n",
    "print(json.dumps(res, indent=4))\n",
    "\n",
    "# Extract relevant object and field\n",
    "q = res[\"contents\"][\"quotes\"][0]\n",
    "print(q[\"quote\"], \"\\n--\", q[\"author\"])"
   ]
  },
  {
   "cell_type": "markdown",
   "metadata": {},
   "source": [
    "## Cleaning"
   ]
  },
  {
   "cell_type": "code",
   "execution_count": 8,
   "metadata": {
    "scrolled": true
   },
   "outputs": [
    {
     "name": "stdout",
     "output_type": "stream",
     "text": [
      "<html lang=\"en\" op=\"news\"><head><meta name=\"referrer\" content=\"origin\"><meta name=\"viewport\" content=\"width=device-width, initial-scale=1.0\"><link rel=\"stylesheet\" type=\"text/css\" href=\"news.css?mAYtHopLXcyUvpQGa5WG\">\n",
      "        <link rel=\"shortcut icon\" href=\"favicon.ico\">\n",
      "          <link rel=\"alternate\" type=\"application/rss+xml\" title=\"RSS\" href=\"rss\">\n",
      "        <title>Hacker News</title></head><body><center><table id=\"hnmain\" border=\"0\" cellpadding=\"0\" cellspacing=\"0\" width=\"85%\" bgcolor=\"#f6f6ef\">\n",
      "        <tr><td bgcolor=\"#ff6600\"><table border=\"0\" cellpadding=\"0\" cellspacing=\"0\" width=\"100%\" style=\"padding:2px\"><tr><td style=\"width:18px;padding-right:4px\"><a href=\"https://news.ycombinator.com\"><img src=\"y18.gif\" width=\"18\" height=\"18\" style=\"border:1px white solid;\"></a></td>\n",
      "                  <td style=\"line-height:12pt; height:10px;\"><span class=\"pagetop\"><b class=\"hnname\"><a href=\"news\">Hacker News</a></b>\n",
      "              <a href=\"newest\">new</a> | <a href=\"front\">past</a> | <a href=\"newcomments\">comments</a> | <a href=\"ask\">ask</a> | <a href=\"show\">show</a> | <a href=\"jobs\">jobs</a> | <a href=\"submit\">submit</a>            </span></td><td style=\"text-align:right;padding-right:4px;\"><span class=\"pagetop\">\n",
      "                              <a href=\"login?goto=news\">login</a>\n",
      "                          </span></td>\n",
      "              </tr></table></td></tr>\n",
      "<tr id=\"pagespace\" title=\"\" style=\"height:10px\"></tr><tr><td><table border=\"0\" cellpadding=\"0\" cellspacing=\"0\" class=\"itemlist\">\n",
      "              <tr class='athing' id='23494366'>\n",
      "      <td align=\"right\" valign=\"top\" class=\"title\"><span class=\"rank\">1.</span></td>      <td valign=\"top\" class=\"votelinks\"><center><a id='up_23494366' href='vote?id=23494366&amp;how=up&amp;goto=news'><div class='votearrow' title='upvote'></div></a></center></td><td class=\"title\"><a href=\"https://www.uopeople.edu/\" class=\"storylink\">University of the People: Tuition-Free, Accredited Online Degree Programs</a><span class=\"sitebit comhead\"> (<a href=\"from?site=uopeople.edu\"><span class=\"sitestr\">uopeople.edu</span></a>)</span></td></tr><tr><td colspan=\"2\"></td><td class=\"subtext\">\n",
      "        <span class=\"score\" id=\"score_23494366\">379 points</span> by <a href=\"user?id=tomato2juice\" class=\"hnuser\">tomato2juice</a> <span class=\"age\"><a href=\"item?id=23494366\">7 hours ago</a></span> <span id=\"unv_23494366\"></span> | <a href=\"hide?id=23494366&amp;goto=news\">hide</a> | <a href=\"item?id=23494366\">186&nbsp;comments</a>              </td></tr>\n",
      "      <tr class=\"spacer\" style=\"height:5px\"></tr>\n",
      "                <tr class='athing' id='23490367'>\n",
      "      <td align=\"right\" valign=\"top\" class=\"title\"><span class=\"rank\">2.</span></td>      <td valign=\"top\" class=\"votelinks\"><center><a id='up_23490367' href='vote?id=23490367&amp;how=up&amp;goto=news'><div class='votearrow' title='upvote'></div></a></center></td><td class=\"title\"><a href=\"https://coding.napolux.com/a-facebook-crawler-was-making-7m-requests-per-day-to-my-stupid-website/\" class=\"storylink\">A Facebook crawler was making 7M requests per day to my stupid website</a><span class=\"sitebit comhead\"> (<a href=\"from?site=napolux.com\"><span class=\"sitestr\">napolux.com</span></a>)</span></td></tr><tr><td colspan=\"2\"></td><td class=\"subtext\">\n",
      "        <span class=\"score\" id=\"score_23490367\">875 points</span> by <a href=\"user?id=napolux\" class=\"hnuser\">napolux</a> <span class=\"age\"><a href=\"item?id=23490367\">14 hours ago</a></span> <span id=\"unv_23490367\"></span> | <a href=\"hide?id=23490367&amp;goto=news\">hide</a> | <a href=\"item?id=23490367\">354&nbsp;comments</a>              </td></tr>\n",
      "      <tr class=\"spacer\" style=\"height:5px\"></tr>\n",
      "                <tr class='athing' id='23496083'>\n",
      "      <td align=\"right\" valign=\"top\" class=\"title\"><span class=\"rank\">3.</span></td>      <td valign=\"top\" class=\"votelinks\"><center><a id='up_23496083' href='vote?id=23496083&amp;how=up&amp;goto=news'><div class='votearrow' title='upvote'></div></a></center></td><td class=\"title\"><a href=\"https://www.anandtech.com/show/15846/jim-keller-resigns-from-intel-effective-immediately\" class=\"storylink\">Jim Keller Resigns from Intel, Effective Immediately</a><span class=\"sitebit comhead\"> (<a href=\"from?site=anandtech.com\"><span class=\"sitestr\">anandtech.com</span></a>)</span></td></tr><tr><td colspan=\"2\"></td><td class=\"subtext\">\n",
      "        <span class=\"score\" id=\"score_23496083\">69 points</span> by <a href=\"user?id=virtualwhys\" class=\"hnuser\">virtualwhys</a> <span class=\"age\"><a href=\"item?id=23496083\">2 hours ago</a></span> <span id=\"unv_23496083\"></span> | <a href=\"hide?id=23496083&amp;goto=news\">hide</a> | <a href=\"item?id=23496083\">5&nbsp;comments</a>              </td></tr>\n",
      "      <tr class=\"spacer\" style=\"height:5px\"></tr>\n",
      "                <tr class='athing' id='23491940'>\n",
      "      <td align=\"right\" valign=\"top\" class=\"title\"><span class=\"rank\">4.</span></td>      <td valign=\"top\" class=\"votelinks\"><center><a id='up_23491940' href='vote?id=23491940&amp;how=up&amp;goto=news'><div class='votearrow' title='upvote'></div></a></center></td><td class=\"title\"><a href=\"https://artvee.com/\" class=\"storylink\">Show HN: Download Hi-Res Public Domain Art, Posters and Illustrations</a><span class=\"sitebit comhead\"> (<a href=\"from?site=artvee.com\"><span class=\"sitestr\">artvee.com</span></a>)</span></td></tr><tr><td colspan=\"2\"></td><td class=\"subtext\">\n",
      "        <span class=\"score\" id=\"score_23491940\">376 points</span> by <a href=\"user?id=therecb\" class=\"hnuser\">therecb</a> <span class=\"age\"><a href=\"item?id=23491940\">12 hours ago</a></span> <span id=\"unv_23491940\"></span> | <a href=\"hide?id=23491940&amp;goto=news\">hide</a> | <a href=\"item?id=23491940\">35&nbsp;comments</a>              </td></tr>\n",
      "      <tr class=\"spacer\" style=\"height:5px\"></tr>\n",
      "                <tr class='athing' id='23495084'>\n",
      "      <td align=\"right\" valign=\"top\" class=\"title\"><span class=\"rank\">5.</span></td>      <td valign=\"top\" class=\"votelinks\"><center><a id='up_23495084' href='vote?id=23495084&amp;how=up&amp;goto=news'><div class='votearrow' title='upvote'></div></a></center></td><td class=\"title\"><a href=\"https://www.mikealche.com/software-development/how-to-implement-search-by-color-when-all-you-have-is-a-good-coffee\" class=\"storylink\">How to implement search-by-color when all you have is a good coffee</a><span class=\"sitebit comhead\"> (<a href=\"from?site=mikealche.com\"><span class=\"sitestr\">mikealche.com</span></a>)</span></td></tr><tr><td colspan=\"2\"></td><td class=\"subtext\">\n",
      "        <span class=\"score\" id=\"score_23495084\">90 points</span> by <a href=\"user?id=helloiloveyou\" class=\"hnuser\">helloiloveyou</a> <span class=\"age\"><a href=\"item?id=23495084\">5 hours ago</a></span> <span id=\"unv_23495084\"></span> | <a href=\"hide?id=23495084&amp;goto=news\">hide</a> | <a href=\"item?id=23495084\">22&nbsp;comments</a>              </td></tr>\n",
      "      <tr class=\"spacer\" style=\"height:5px\"></tr>\n",
      "                <tr class='athing' id='23486452'>\n",
      "      <td align=\"right\" valign=\"top\" class=\"title\"><span class=\"rank\">6.</span></td>      <td valign=\"top\" class=\"votelinks\"><center><a id='up_23486452' href='vote?id=23486452&amp;how=up&amp;goto=news'><div class='votearrow' title='upvote'></div></a></center></td><td class=\"title\"><a href=\"https://imaginary.org/sites/default/files/20190911-lala-booklet-v0.4-web-text.pdf\" class=\"storylink\">The Mathematics of Music [pdf]</a><span class=\"sitebit comhead\"> (<a href=\"from?site=imaginary.org\"><span class=\"sitestr\">imaginary.org</span></a>)</span></td></tr><tr><td colspan=\"2\"></td><td class=\"subtext\">\n",
      "        <span class=\"score\" id=\"score_23486452\">13 points</span> by <a href=\"user?id=kondor\" class=\"hnuser\">kondor</a> <span class=\"age\"><a href=\"item?id=23486452\">1 hour ago</a></span> <span id=\"unv_23486452\"></span> | <a href=\"hide?id=23486452&amp;goto=news\">hide</a> | <a href=\"item?id=23486452\">4&nbsp;comments</a>              </td></tr>\n",
      "      <tr class=\"spacer\" style=\"height:5px\"></tr>\n",
      "                <tr class='athing' id='23495052'>\n",
      "      <td align=\"right\" valign=\"top\" class=\"title\"><span class=\"rank\">7.</span></td>      <td valign=\"top\" class=\"votelinks\"><center><a id='up_23495052' href='vote?id=23495052&amp;how=up&amp;goto=news'><div class='votearrow' title='upvote'></div></a></center></td><td class=\"title\"><a href=\"https://kevq.uk/is-dark-mode-such-a-good-idea/\" class=\"storylink\">Is Dark Mode Such a Good Idea?</a><span class=\"sitebit comhead\"> (<a href=\"from?site=kevq.uk\"><span class=\"sitestr\">kevq.uk</span></a>)</span></td></tr><tr><td colspan=\"2\"></td><td class=\"subtext\">\n",
      "        <span class=\"score\" id=\"score_23495052\">122 points</span> by <a href=\"user?id=kdrag0n\" class=\"hnuser\">kdrag0n</a> <span class=\"age\"><a href=\"item?id=23495052\">5 hours ago</a></span> <span id=\"unv_23495052\"></span> | <a href=\"hide?id=23495052&amp;goto=news\">hide</a> | <a href=\"item?id=23495052\">146&nbsp;comments</a>              </td></tr>\n",
      "      <tr class=\"spacer\" style=\"height:5px\"></tr>\n",
      "                <tr class='athing' id='23495962'>\n",
      "      <td align=\"right\" valign=\"top\" class=\"title\"><span class=\"rank\">8.</span></td>      <td valign=\"top\" class=\"votelinks\"><center><a id='up_23495962' href='vote?id=23495962&amp;how=up&amp;goto=news'><div class='votearrow' title='upvote'></div></a></center></td><td class=\"title\"><a href=\"https://www.economist.com/finance-and-economics/2020/06/13/the-yuan-has-been-one-of-the-worlds-most-stable-major-currencies\" class=\"storylink\">The yuan has been one of the world’s most stable major currencies</a><span class=\"sitebit comhead\"> (<a href=\"from?site=economist.com\"><span class=\"sitestr\">economist.com</span></a>)</span></td></tr><tr><td colspan=\"2\"></td><td class=\"subtext\">\n",
      "        <span class=\"score\" id=\"score_23495962\">18 points</span> by <a href=\"user?id=known\" class=\"hnuser\">known</a> <span class=\"age\"><a href=\"item?id=23495962\">2 hours ago</a></span> <span id=\"unv_23495962\"></span> | <a href=\"hide?id=23495962&amp;goto=news\">hide</a> | <a href=\"item?id=23495962\">13&nbsp;comments</a>              </td></tr>\n",
      "      <tr class=\"spacer\" style=\"height:5px\"></tr>\n",
      "                <tr class='athing' id='23476062'>\n",
      "      <td align=\"right\" valign=\"top\" class=\"title\"><span class=\"rank\">9.</span></td>      <td valign=\"top\" class=\"votelinks\"><center><a id='up_23476062' href='vote?id=23476062&amp;how=up&amp;goto=news'><div class='votearrow' title='upvote'></div></a></center></td><td class=\"title\"><a href=\"https://getmarple.io/\" class=\"storylink\">Show HN: Marple – Visualising millions of datapoints for engineers</a><span class=\"sitebit comhead\"> (<a href=\"from?site=getmarple.io\"><span class=\"sitestr\">getmarple.io</span></a>)</span></td></tr><tr><td colspan=\"2\"></td><td class=\"subtext\">\n",
      "        <span class=\"score\" id=\"score_23476062\">50 points</span> by <a href=\"user?id=NeroVanbierv\" class=\"hnuser\">NeroVanbierv</a> <span class=\"age\"><a href=\"item?id=23476062\">4 hours ago</a></span> <span id=\"unv_23476062\"></span> | <a href=\"hide?id=23476062&amp;goto=news\">hide</a> | <a href=\"item?id=23476062\">12&nbsp;comments</a>              </td></tr>\n",
      "      <tr class=\"spacer\" style=\"height:5px\"></tr>\n",
      "                <tr class='athing' id='23493448'>\n",
      "      <td align=\"right\" valign=\"top\" class=\"title\"><span class=\"rank\">10.</span></td>      <td valign=\"top\" class=\"votelinks\"><center><a id='up_23493448' href='vote?id=23493448&amp;how=up&amp;goto=news'><div class='votearrow' title='upvote'></div></a></center></td><td class=\"title\"><a href=\"https://blog.twitter.com/en_us/topics/company/2020/information-operations-june-2020.html\" class=\"storylink\">Disclosing networks of state-linked information operations we’ve removed</a><span class=\"sitebit comhead\"> (<a href=\"from?site=blog.twitter.com\"><span class=\"sitestr\">blog.twitter.com</span></a>)</span></td></tr><tr><td colspan=\"2\"></td><td class=\"subtext\">\n",
      "        <span class=\"score\" id=\"score_23493448\">111 points</span> by <a href=\"user?id=mpweiher\" class=\"hnuser\">mpweiher</a> <span class=\"age\"><a href=\"item?id=23493448\">9 hours ago</a></span> <span id=\"unv_23493448\"></span> | <a href=\"hide?id=23493448&amp;goto=news\">hide</a> | <a href=\"item?id=23493448\">48&nbsp;comments</a>              </td></tr>\n",
      "      <tr class=\"spacer\" style=\"height:5px\"></tr>\n",
      "                <tr class='athing' id='23494710'>\n",
      "      <td align=\"right\" valign=\"top\" class=\"title\"><span class=\"rank\">11.</span></td>      <td valign=\"top\" class=\"votelinks\"><center><a id='up_23494710' href='vote?id=23494710&amp;how=up&amp;goto=news'><div class='votearrow' title='upvote'></div></a></center></td><td class=\"title\"><a href=\"https://www.scientificamerican.com/article/thousands-of-tons-of-microplastics-are-falling-from-the-sky/\" class=\"storylink\">New research helps unravel how vast amounts of plastic particles travel</a><span class=\"sitebit comhead\"> (<a href=\"from?site=scientificamerican.com\"><span class=\"sitestr\">scientificamerican.com</span></a>)</span></td></tr><tr><td colspan=\"2\"></td><td class=\"subtext\">\n",
      "        <span class=\"score\" id=\"score_23494710\">55 points</span> by <a href=\"user?id=woofyman\" class=\"hnuser\">woofyman</a> <span class=\"age\"><a href=\"item?id=23494710\">6 hours ago</a></span> <span id=\"unv_23494710\"></span> | <a href=\"hide?id=23494710&amp;goto=news\">hide</a> | <a href=\"item?id=23494710\">4&nbsp;comments</a>              </td></tr>\n",
      "      <tr class=\"spacer\" style=\"height:5px\"></tr>\n",
      "                <tr class='athing' id='23492358'>\n",
      "      <td align=\"right\" valign=\"top\" class=\"title\"><span class=\"rank\">12.</span></td>      <td valign=\"top\" class=\"votelinks\"><center><a id='up_23492358' href='vote?id=23492358&amp;how=up&amp;goto=news'><div class='votearrow' title='upvote'></div></a></center></td><td class=\"title\"><a href=\"https://acesounderglass.com/2020/06/10/what-to-write-down-when-youre-reading-to-learn/\" class=\"storylink\">What to write down when you’re reading to learn</a><span class=\"sitebit comhead\"> (<a href=\"from?site=acesounderglass.com\"><span class=\"sitestr\">acesounderglass.com</span></a>)</span></td></tr><tr><td colspan=\"2\"></td><td class=\"subtext\">\n",
      "        <span class=\"score\" id=\"score_23492358\">175 points</span> by <a href=\"user?id=luu\" class=\"hnuser\">luu</a> <span class=\"age\"><a href=\"item?id=23492358\">11 hours ago</a></span> <span id=\"unv_23492358\"></span> | <a href=\"hide?id=23492358&amp;goto=news\">hide</a> | <a href=\"item?id=23492358\">22&nbsp;comments</a>              </td></tr>\n",
      "      <tr class=\"spacer\" style=\"height:5px\"></tr>\n",
      "                <tr class='athing' id='23492169'>\n",
      "      <td align=\"right\" valign=\"top\" class=\"title\"><span class=\"rank\">13.</span></td>      <td valign=\"top\" class=\"votelinks\"><center><a id='up_23492169' href='vote?id=23492169&amp;how=up&amp;goto=news'><div class='votearrow' title='upvote'></div></a></center></td><td class=\"title\"><a href=\"https://github.com/neutrinolabs/xrdp\" class=\"storylink\">Xrdp: An open source RDP server</a><span class=\"sitebit comhead\"> (<a href=\"from?site=github.com\"><span class=\"sitestr\">github.com</span></a>)</span></td></tr><tr><td colspan=\"2\"></td><td class=\"subtext\">\n",
      "        <span class=\"score\" id=\"score_23492169\">156 points</span> by <a href=\"user?id=tomato2juice\" class=\"hnuser\">tomato2juice</a> <span class=\"age\"><a href=\"item?id=23492169\">11 hours ago</a></span> <span id=\"unv_23492169\"></span> | <a href=\"hide?id=23492169&amp;goto=news\">hide</a> | <a href=\"item?id=23492169\">60&nbsp;comments</a>              </td></tr>\n",
      "      <tr class=\"spacer\" style=\"height:5px\"></tr>\n",
      "                <tr class='athing' id='23496533'>\n",
      "      <td align=\"right\" valign=\"top\" class=\"title\"><span class=\"rank\">14.</span></td>      <td valign=\"top\" class=\"votelinks\"><center><a id='up_23496533' href='vote?id=23496533&amp;how=up&amp;goto=news'><div class='votearrow' title='upvote'></div></a></center></td><td class=\"title\"><a href=\"https://theintercept.com/2020/06/11/facebook-workplace-unionize/\" class=\"storylink\">New Facebook Tool Allows Employers to Suppress “Unionize” in Workplace Chat</a><span class=\"sitebit comhead\"> (<a href=\"from?site=theintercept.com\"><span class=\"sitestr\">theintercept.com</span></a>)</span></td></tr><tr><td colspan=\"2\"></td><td class=\"subtext\">\n",
      "        <span class=\"score\" id=\"score_23496533\">20 points</span> by <a href=\"user?id=aaronbrethorst\" class=\"hnuser\">aaronbrethorst</a> <span class=\"age\"><a href=\"item?id=23496533\">42 minutes ago</a></span> <span id=\"unv_23496533\"></span> | <a href=\"hide?id=23496533&amp;goto=news\">hide</a> | <a href=\"item?id=23496533\">3&nbsp;comments</a>              </td></tr>\n",
      "      <tr class=\"spacer\" style=\"height:5px\"></tr>\n",
      "                <tr class='athing' id='23491754'>\n",
      "      <td align=\"right\" valign=\"top\" class=\"title\"><span class=\"rank\">15.</span></td>      <td valign=\"top\" class=\"votelinks\"><center><a id='up_23491754' href='vote?id=23491754&amp;how=up&amp;goto=news'><div class='votearrow' title='upvote'></div></a></center></td><td class=\"title\"><a href=\"http://www.esa.int/ESA_Multimedia/Images/2020/06/Global_air_pollution_maps_now_available\" class=\"storylink\">Global air pollution maps by the European Space Agency</a><span class=\"sitebit comhead\"> (<a href=\"from?site=esa.int\"><span class=\"sitestr\">esa.int</span></a>)</span></td></tr><tr><td colspan=\"2\"></td><td class=\"subtext\">\n",
      "        <span class=\"score\" id=\"score_23491754\">171 points</span> by <a href=\"user?id=walterbell\" class=\"hnuser\">walterbell</a> <span class=\"age\"><a href=\"item?id=23491754\">12 hours ago</a></span> <span id=\"unv_23491754\"></span> | <a href=\"hide?id=23491754&amp;goto=news\">hide</a> | <a href=\"item?id=23491754\">61&nbsp;comments</a>              </td></tr>\n",
      "      <tr class=\"spacer\" style=\"height:5px\"></tr>\n",
      "                <tr class='athing' id='23492083'>\n",
      "      <td align=\"right\" valign=\"top\" class=\"title\"><span class=\"rank\">16.</span></td>      <td valign=\"top\" class=\"votelinks\"><center><a id='up_23492083' href='vote?id=23492083&amp;how=up&amp;goto=news'><div class='votearrow' title='upvote'></div></a></center></td><td class=\"title\"><a href=\"https://insights.som.yale.edu/insights/the-antitrust-case-against-google\" class=\"storylink\">The antitrust case against Google</a><span class=\"sitebit comhead\"> (<a href=\"from?site=yale.edu\"><span class=\"sitestr\">yale.edu</span></a>)</span></td></tr><tr><td colspan=\"2\"></td><td class=\"subtext\">\n",
      "        <span class=\"score\" id=\"score_23492083\">215 points</span> by <a href=\"user?id=lawrenceyan\" class=\"hnuser\">lawrenceyan</a> <span class=\"age\"><a href=\"item?id=23492083\">12 hours ago</a></span> <span id=\"unv_23492083\"></span> | <a href=\"hide?id=23492083&amp;goto=news\">hide</a> | <a href=\"item?id=23492083\">173&nbsp;comments</a>              </td></tr>\n",
      "      <tr class=\"spacer\" style=\"height:5px\"></tr>\n",
      "                <tr class='athing' id='23489068'>\n",
      "      <td align=\"right\" valign=\"top\" class=\"title\"><span class=\"rank\">17.</span></td>      <td valign=\"top\" class=\"votelinks\"><center><a id='up_23489068' href='vote?id=23489068&amp;how=up&amp;goto=news'><div class='votearrow' title='upvote'></div></a></center></td><td class=\"title\"><a href=\"https://news.mit.edu/2020/guided-by-open-access-principles-mit-ends-elsevier-negotiations-0611\" class=\"storylink\">MIT Ends Elsevier Negotiations</a><span class=\"sitebit comhead\"> (<a href=\"from?site=news.mit.edu\"><span class=\"sitestr\">news.mit.edu</span></a>)</span></td></tr><tr><td colspan=\"2\"></td><td class=\"subtext\">\n",
      "        <span class=\"score\" id=\"score_23489068\">930 points</span> by <a href=\"user?id=davrosthedalek\" class=\"hnuser\">davrosthedalek</a> <span class=\"age\"><a href=\"item?id=23489068\">16 hours ago</a></span> <span id=\"unv_23489068\"></span> | <a href=\"hide?id=23489068&amp;goto=news\">hide</a> | <a href=\"item?id=23489068\">227&nbsp;comments</a>              </td></tr>\n",
      "      <tr class=\"spacer\" style=\"height:5px\"></tr>\n",
      "                <tr class='athing' id='23487500'>\n",
      "      <td align=\"right\" valign=\"top\" class=\"title\"><span class=\"rank\">18.</span></td>      <td valign=\"top\" class=\"votelinks\"><center><a id='up_23487500' href='vote?id=23487500&amp;how=up&amp;goto=news'><div class='votearrow' title='upvote'></div></a></center></td><td class=\"title\"><a href=\"https://www.atlasobscura.com/articles/utilitarian-pleasures-playing-board-games-by-yourself\" class=\"storylink\">The utilitarian pleasures of playing board games by yourself</a><span class=\"sitebit comhead\"> (<a href=\"from?site=atlasobscura.com\"><span class=\"sitestr\">atlasobscura.com</span></a>)</span></td></tr><tr><td colspan=\"2\"></td><td class=\"subtext\">\n",
      "        <span class=\"score\" id=\"score_23487500\">28 points</span> by <a href=\"user?id=exanimo_sai\" class=\"hnuser\">exanimo_sai</a> <span class=\"age\"><a href=\"item?id=23487500\">5 hours ago</a></span> <span id=\"unv_23487500\"></span> | <a href=\"hide?id=23487500&amp;goto=news\">hide</a> | <a href=\"item?id=23487500\">11&nbsp;comments</a>              </td></tr>\n",
      "      <tr class=\"spacer\" style=\"height:5px\"></tr>\n",
      "                <tr class='athing' id='23486078'>\n",
      "      <td align=\"right\" valign=\"top\" class=\"title\"><span class=\"rank\">19.</span></td>      <td valign=\"top\" class=\"votelinks\"><center><a id='up_23486078' href='vote?id=23486078&amp;how=up&amp;goto=news'><div class='votearrow' title='upvote'></div></a></center></td><td class=\"title\"><a href=\"http://www.realtimerendering.com/blog/the-center-of-the-pixel-is-0-50-5/\" class=\"storylink\">The Center of the Pixel is (0.5, 0.5)</a><span class=\"sitebit comhead\"> (<a href=\"from?site=realtimerendering.com\"><span class=\"sitestr\">realtimerendering.com</span></a>)</span></td></tr><tr><td colspan=\"2\"></td><td class=\"subtext\">\n",
      "        <span class=\"score\" id=\"score_23486078\">113 points</span> by <a href=\"user?id=ingve\" class=\"hnuser\">ingve</a> <span class=\"age\"><a href=\"item?id=23486078\">12 hours ago</a></span> <span id=\"unv_23486078\"></span> | <a href=\"hide?id=23486078&amp;goto=news\">hide</a> | <a href=\"item?id=23486078\">56&nbsp;comments</a>              </td></tr>\n",
      "      <tr class=\"spacer\" style=\"height:5px\"></tr>\n",
      "                <tr class='athing' id='23492558'>\n",
      "      <td align=\"right\" valign=\"top\" class=\"title\"><span class=\"rank\">20.</span></td>      <td valign=\"top\" class=\"votelinks\"><center><a id='up_23492558' href='vote?id=23492558&amp;how=up&amp;goto=news'><div class='votearrow' title='upvote'></div></a></center></td><td class=\"title\"><a href=\"https://about.gitlab.com/press/releases/2020-06-11-gitlab-acquires-peach-tech-and-fuzzit-to-expand-devsecops-offering.html\" class=\"storylink\">GitLab acquires Peach Tech and Fuzzit</a><span class=\"sitebit comhead\"> (<a href=\"from?site=gitlab.com\"><span class=\"sitestr\">gitlab.com</span></a>)</span></td></tr><tr><td colspan=\"2\"></td><td class=\"subtext\">\n",
      "        <span class=\"score\" id=\"score_23492558\">81 points</span> by <a href=\"user?id=factorialboy\" class=\"hnuser\">factorialboy</a> <span class=\"age\"><a href=\"item?id=23492558\">11 hours ago</a></span> <span id=\"unv_23492558\"></span> | <a href=\"hide?id=23492558&amp;goto=news\">hide</a> | <a href=\"item?id=23492558\">24&nbsp;comments</a>              </td></tr>\n",
      "      <tr class=\"spacer\" style=\"height:5px\"></tr>\n",
      "                <tr class='athing' id='23493379'>\n",
      "      <td align=\"right\" valign=\"top\" class=\"title\"><span class=\"rank\">21.</span></td>      <td valign=\"top\" class=\"votelinks\"><center><a id='up_23493379' href='vote?id=23493379&amp;how=up&amp;goto=news'><div class='votearrow' title='upvote'></div></a></center></td><td class=\"title\"><a href=\"https://www.dexplo.org/dexplot/\" class=\"storylink\">Dexplot: Python library for data visualization</a><span class=\"sitebit comhead\"> (<a href=\"from?site=dexplo.org\"><span class=\"sitestr\">dexplo.org</span></a>)</span></td></tr><tr><td colspan=\"2\"></td><td class=\"subtext\">\n",
      "        <span class=\"score\" id=\"score_23493379\">33 points</span> by <a href=\"user?id=illuminated\" class=\"hnuser\">illuminated</a> <span class=\"age\"><a href=\"item?id=23493379\">5 hours ago</a></span> <span id=\"unv_23493379\"></span> | <a href=\"hide?id=23493379&amp;goto=news\">hide</a> | <a href=\"item?id=23493379\">8&nbsp;comments</a>              </td></tr>\n",
      "      <tr class=\"spacer\" style=\"height:5px\"></tr>\n",
      "                <tr class='athing' id='23486064'>\n",
      "      <td align=\"right\" valign=\"top\" class=\"title\"><span class=\"rank\">22.</span></td>      <td valign=\"top\" class=\"votelinks\"><center><a id='up_23486064' href='vote?id=23486064&amp;how=up&amp;goto=news'><div class='votearrow' title='upvote'></div></a></center></td><td class=\"title\"><a href=\"https://satnogs.org/\" class=\"storylink\">SatNOGS: Open-Source Ground Station Network</a><span class=\"sitebit comhead\"> (<a href=\"from?site=satnogs.org\"><span class=\"sitestr\">satnogs.org</span></a>)</span></td></tr><tr><td colspan=\"2\"></td><td class=\"subtext\">\n",
      "        <span class=\"score\" id=\"score_23486064\">43 points</span> by <a href=\"user?id=Tomte\" class=\"hnuser\">Tomte</a> <span class=\"age\"><a href=\"item?id=23486064\">9 hours ago</a></span> <span id=\"unv_23486064\"></span> | <a href=\"hide?id=23486064&amp;goto=news\">hide</a> | <a href=\"item?id=23486064\">4&nbsp;comments</a>              </td></tr>\n",
      "      <tr class=\"spacer\" style=\"height:5px\"></tr>\n",
      "                <tr class='athing' id='23484522'>\n",
      "      <td align=\"right\" valign=\"top\" class=\"title\"><span class=\"rank\">23.</span></td>      <td valign=\"top\" class=\"votelinks\"><center><a id='up_23484522' href='vote?id=23484522&amp;how=up&amp;goto=news'><div class='votearrow' title='upvote'></div></a></center></td><td class=\"title\"><a href=\"https://www.spectator.co.uk/article/why-whales-sing-it-s-a-question-of-culture\" class=\"storylink\" rel=\"nofollow\">Why whales sing: it’s a question of culture</a><span class=\"sitebit comhead\"> (<a href=\"from?site=spectator.co.uk\"><span class=\"sitestr\">spectator.co.uk</span></a>)</span></td></tr><tr><td colspan=\"2\"></td><td class=\"subtext\">\n",
      "        <span class=\"score\" id=\"score_23484522\">9 points</span> by <a href=\"user?id=tintinnabula\" class=\"hnuser\">tintinnabula</a> <span class=\"age\"><a href=\"item?id=23484522\">3 hours ago</a></span> <span id=\"unv_23484522\"></span> | <a href=\"hide?id=23484522&amp;goto=news\">hide</a> | <a href=\"item?id=23484522\">discuss</a>              </td></tr>\n",
      "      <tr class=\"spacer\" style=\"height:5px\"></tr>\n",
      "                <tr class='athing' id='23494054'>\n",
      "      <td align=\"right\" valign=\"top\" class=\"title\"><span class=\"rank\">24.</span></td>      <td valign=\"top\" class=\"votelinks\"><center><a id='up_23494054' href='vote?id=23494054&amp;how=up&amp;goto=news'><div class='votearrow' title='upvote'></div></a></center></td><td class=\"title\"><a href=\"https://aloiskraus.wordpress.com/2018/06/16/why-skylakex-cpus-are-sometimes-50-slower-how-intel-has-broken-existing-code/\" class=\"storylink\">Why Skylake CPUs Are Sometimes 50% Slower (2018)</a><span class=\"sitebit comhead\"> (<a href=\"from?site=aloiskraus.wordpress.com\"><span class=\"sitestr\">aloiskraus.wordpress.com</span></a>)</span></td></tr><tr><td colspan=\"2\"></td><td class=\"subtext\">\n",
      "        <span class=\"score\" id=\"score_23494054\">100 points</span> by <a href=\"user?id=wheresvic4\" class=\"hnuser\">wheresvic4</a> <span class=\"age\"><a href=\"item?id=23494054\">8 hours ago</a></span> <span id=\"unv_23494054\"></span> | <a href=\"hide?id=23494054&amp;goto=news\">hide</a> | <a href=\"item?id=23494054\">34&nbsp;comments</a>              </td></tr>\n",
      "      <tr class=\"spacer\" style=\"height:5px\"></tr>\n",
      "                <tr class='athing' id='23492487'>\n",
      "      <td align=\"right\" valign=\"top\" class=\"title\"><span class=\"rank\">25.</span></td>      <td valign=\"top\" class=\"votelinks\"><center><a id='up_23492487' href='vote?id=23492487&amp;how=up&amp;goto=news'><div class='votearrow' title='upvote'></div></a></center></td><td class=\"title\"><a href=\"https://harvardlawreview.org/2020/06/bigger-v-facebook/\" class=\"storylink\">Bigger v. Facebook, Inc.</a><span class=\"sitebit comhead\"> (<a href=\"from?site=harvardlawreview.org\"><span class=\"sitestr\">harvardlawreview.org</span></a>)</span></td></tr><tr><td colspan=\"2\"></td><td class=\"subtext\">\n",
      "        <span class=\"score\" id=\"score_23492487\">101 points</span> by <a href=\"user?id=hhs\" class=\"hnuser\">hhs</a> <span class=\"age\"><a href=\"item?id=23492487\">11 hours ago</a></span> <span id=\"unv_23492487\"></span> | <a href=\"hide?id=23492487&amp;goto=news\">hide</a> | <a href=\"item?id=23492487\">21&nbsp;comments</a>              </td></tr>\n",
      "      <tr class=\"spacer\" style=\"height:5px\"></tr>\n",
      "                <tr class='athing' id='23490115'>\n",
      "      <td align=\"right\" valign=\"top\" class=\"title\"><span class=\"rank\">26.</span></td>      <td valign=\"top\" class=\"votelinks\"><center><a id='up_23490115' href='vote?id=23490115&amp;how=up&amp;goto=news'><div class='votearrow' title='upvote'></div></a></center></td><td class=\"title\"><a href=\"item?id=23490115\" class=\"storylink\">Ask HN: My wife might lose the ability to speak in 3 weeks – how to prepare?</a></td></tr><tr><td colspan=\"2\"></td><td class=\"subtext\">\n",
      "        <span class=\"score\" id=\"score_23490115\">780 points</span> by <a href=\"user?id=tech4all\" class=\"hnuser\">tech4all</a> <span class=\"age\"><a href=\"item?id=23490115\">15 hours ago</a></span> <span id=\"unv_23490115\"></span> | <a href=\"hide?id=23490115&amp;goto=news\">hide</a> | <a href=\"item?id=23490115\">201&nbsp;comments</a>              </td></tr>\n",
      "      <tr class=\"spacer\" style=\"height:5px\"></tr>\n",
      "                <tr class='athing' id='23492285'>\n",
      "      <td align=\"right\" valign=\"top\" class=\"title\"><span class=\"rank\">27.</span></td>      <td valign=\"top\" class=\"votelinks\"><center><a id='up_23492285' href='vote?id=23492285&amp;how=up&amp;goto=news'><div class='votearrow' title='upvote'></div></a></center></td><td class=\"title\"><a href=\"https://engineering.shopify.com/blogs/engineering/spark-joy-by-running-fewer-tests\" class=\"storylink\">Spark joy by running fewer tests</a><span class=\"sitebit comhead\"> (<a href=\"from?site=shopify.com\"><span class=\"sitestr\">shopify.com</span></a>)</span></td></tr><tr><td colspan=\"2\"></td><td class=\"subtext\">\n",
      "        <span class=\"score\" id=\"score_23492285\">103 points</span> by <a href=\"user?id=caution\" class=\"hnuser\">caution</a> <span class=\"age\"><a href=\"item?id=23492285\">11 hours ago</a></span> <span id=\"unv_23492285\"></span> | <a href=\"hide?id=23492285&amp;goto=news\">hide</a> | <a href=\"item?id=23492285\">69&nbsp;comments</a>              </td></tr>\n",
      "      <tr class=\"spacer\" style=\"height:5px\"></tr>\n",
      "                <tr class='athing' id='23492138'>\n",
      "      <td align=\"right\" valign=\"top\" class=\"title\"><span class=\"rank\">28.</span></td>      <td valign=\"top\" class=\"votelinks\"><center><a id='up_23492138' href='vote?id=23492138&amp;how=up&amp;goto=news'><div class='votearrow' title='upvote'></div></a></center></td><td class=\"title\"><a href=\"https://en.wikipedia.org/wiki/Cantor_function\" class=\"storylink\">Cantor function, a.k.a. devil's staircase</a><span class=\"sitebit comhead\"> (<a href=\"from?site=wikipedia.org\"><span class=\"sitestr\">wikipedia.org</span></a>)</span></td></tr><tr><td colspan=\"2\"></td><td class=\"subtext\">\n",
      "        <span class=\"score\" id=\"score_23492138\">67 points</span> by <a href=\"user?id=memexy\" class=\"hnuser\">memexy</a> <span class=\"age\"><a href=\"item?id=23492138\">10 hours ago</a></span> <span id=\"unv_23492138\"></span> | <a href=\"hide?id=23492138&amp;goto=news\">hide</a> | <a href=\"item?id=23492138\">26&nbsp;comments</a>              </td></tr>\n",
      "      <tr class=\"spacer\" style=\"height:5px\"></tr>\n",
      "                <tr class='athing' id='23489653'>\n",
      "      <td align=\"right\" valign=\"top\" class=\"title\"><span class=\"rank\">29.</span></td>      <td valign=\"top\" class=\"votelinks\"><center><a id='up_23489653' href='vote?id=23489653&amp;how=up&amp;goto=news'><div class='votearrow' title='upvote'></div></a></center></td><td class=\"title\"><a href=\"https://beta.openai.com/\" class=\"storylink\">OpenAI API</a><span class=\"sitebit comhead\"> (<a href=\"from?site=openai.com\"><span class=\"sitestr\">openai.com</span></a>)</span></td></tr><tr><td colspan=\"2\"></td><td class=\"subtext\">\n",
      "        <span class=\"score\" id=\"score_23489653\">438 points</span> by <a href=\"user?id=gdb\" class=\"hnuser\">gdb</a> <span class=\"age\"><a href=\"item?id=23489653\">15 hours ago</a></span> <span id=\"unv_23489653\"></span> | <a href=\"hide?id=23489653&amp;goto=news\">hide</a> | <a href=\"item?id=23489653\">135&nbsp;comments</a>              </td></tr>\n",
      "      <tr class=\"spacer\" style=\"height:5px\"></tr>\n",
      "                <tr class='athing' id='23494306'>\n",
      "      <td align=\"right\" valign=\"top\" class=\"title\"><span class=\"rank\">30.</span></td>      <td valign=\"top\" class=\"votelinks\"><center><a id='up_23494306' href='vote?id=23494306&amp;how=up&amp;goto=news'><div class='votearrow' title='upvote'></div></a></center></td><td class=\"title\"><a href=\"https://www.fda.gov/medical-devices/emergency-situations-medical-devices/eua-authorized-serology-test-performance\" class=\"storylink\">EUA Authorized Serology Test Performance</a><span class=\"sitebit comhead\"> (<a href=\"from?site=fda.gov\"><span class=\"sitestr\">fda.gov</span></a>)</span></td></tr><tr><td colspan=\"2\"></td><td class=\"subtext\">\n",
      "        <span class=\"score\" id=\"score_23494306\">20 points</span> by <a href=\"user?id=wyndham\" class=\"hnuser\">wyndham</a> <span class=\"age\"><a href=\"item?id=23494306\">7 hours ago</a></span> <span id=\"unv_23494306\"></span> | <a href=\"hide?id=23494306&amp;goto=news\">hide</a> | <a href=\"item?id=23494306\">5&nbsp;comments</a>              </td></tr>\n",
      "      <tr class=\"spacer\" style=\"height:5px\"></tr>\n",
      "            <tr class=\"morespace\" style=\"height:10px\"></tr><tr><td colspan=\"2\"></td><td class=\"title\"><a href=\"news?p=2\" class=\"morelink\" rel=\"next\">More</a></td></tr>\n",
      "  </table>\n",
      "</td></tr>\n",
      "<tr><td><img src=\"s.gif\" height=\"10\" width=\"0\"><table width=\"100%\" cellspacing=\"0\" cellpadding=\"1\"><tr><td bgcolor=\"#ff6600\"></td></tr></table><br><center><span class=\"yclinks\"><a href=\"newsguidelines.html\">Guidelines</a>\n",
      "        | <a href=\"newsfaq.html\">FAQ</a>\n",
      "        | <a href=\"mailto:hn@ycombinator.com\">Support</a>\n",
      "        | <a href=\"https://github.com/HackerNews/API\">API</a>\n",
      "        | <a href=\"security.html\">Security</a>\n",
      "        | <a href=\"lists\">Lists</a>\n",
      "        | <a href=\"bookmarklet.html\" rel=\"nofollow\">Bookmarklet</a>\n",
      "        | <a href=\"http://www.ycombinator.com/legal/\">Legal</a>\n",
      "        | <a href=\"http://www.ycombinator.com/apply/\">Apply to YC</a>\n",
      "        | <a href=\"mailto:hn@ycombinator.com\">Contact</a></span><br><br><form method=\"get\" action=\"//hn.algolia.com/\">Search:\n",
      "          <input type=\"text\" name=\"q\" value=\"\" size=\"17\" autocorrect=\"off\" spellcheck=\"false\" autocapitalize=\"off\" autocomplete=\"false\"></form>\n",
      "            </center></td></tr>\n",
      "      </table></center></body><script type='text/javascript' src='hn.js?mAYtHopLXcyUvpQGa5WG'></script></html>\n",
      "\n"
     ]
    }
   ],
   "source": [
    "import requests\n",
    "\n",
    "# Fetch a web page\n",
    "r = requests.get(\"https://news.ycombinator.com\")\n",
    "print(r.text)"
   ]
  },
  {
   "cell_type": "code",
   "execution_count": 9,
   "metadata": {},
   "outputs": [
    {
     "name": "stdout",
     "output_type": "stream",
     "text": [
      "\n",
      "        \n",
      "          \n",
      "        Hacker News\n",
      "        \n",
      "                  Hacker News\n",
      "              new | past | comments | ask | show | jobs | submit            \n",
      "                              login\n",
      "                          \n",
      "              \n",
      "\n",
      "              \n",
      "      1.      University of the People: Tuition-Free, Accredited Online Degree Programs (uopeople.edu)\n",
      "        379 points by tomato2juice 7 hours ago  | hide | 186&nbsp;comments              \n",
      "      \n",
      "                \n",
      "      2.      A Facebook crawler was making 7M requests per day to my stupid website (napolux.com)\n",
      "        875 points by napolux 14 hours ago  | hide | 354&nbsp;comments              \n",
      "      \n",
      "                \n",
      "      3.      Jim Keller Resigns from Intel, Effective Immediately (anandtech.com)\n",
      "        69 points by virtualwhys 2 hours ago  | hide | 5&nbsp;comments              \n",
      "      \n",
      "                \n",
      "      4.      Show HN: Download Hi-Res Public Domain Art, Posters and Illustrations (artvee.com)\n",
      "        376 points by therecb 12 hours ago  | hide | 35&nbsp;comments              \n",
      "      \n",
      "                \n",
      "      5.      How to implement search-by-color when all you have is a good coffee (mikealche.com)\n",
      "        90 points by helloiloveyou 5 hours ago  | hide | 22&nbsp;comments              \n",
      "      \n",
      "                \n",
      "      6.      The Mathematics of Music [pdf] (imaginary.org)\n",
      "        13 points by kondor 1 hour ago  | hide | 4&nbsp;comments              \n",
      "      \n",
      "                \n",
      "      7.      Is Dark Mode Such a Good Idea? (kevq.uk)\n",
      "        122 points by kdrag0n 5 hours ago  | hide | 146&nbsp;comments              \n",
      "      \n",
      "                \n",
      "      8.      The yuan has been one of the world’s most stable major currencies (economist.com)\n",
      "        18 points by known 2 hours ago  | hide | 13&nbsp;comments              \n",
      "      \n",
      "                \n",
      "      9.      Show HN: Marple – Visualising millions of datapoints for engineers (getmarple.io)\n",
      "        50 points by NeroVanbierv 4 hours ago  | hide | 12&nbsp;comments              \n",
      "      \n",
      "                \n",
      "      10.      Disclosing networks of state-linked information operations we’ve removed (blog.twitter.com)\n",
      "        111 points by mpweiher 9 hours ago  | hide | 48&nbsp;comments              \n",
      "      \n",
      "                \n",
      "      11.      New research helps unravel how vast amounts of plastic particles travel (scientificamerican.com)\n",
      "        55 points by woofyman 6 hours ago  | hide | 4&nbsp;comments              \n",
      "      \n",
      "                \n",
      "      12.      What to write down when you’re reading to learn (acesounderglass.com)\n",
      "        175 points by luu 11 hours ago  | hide | 22&nbsp;comments              \n",
      "      \n",
      "                \n",
      "      13.      Xrdp: An open source RDP server (github.com)\n",
      "        156 points by tomato2juice 11 hours ago  | hide | 60&nbsp;comments              \n",
      "      \n",
      "                \n",
      "      14.      New Facebook Tool Allows Employers to Suppress “Unionize” in Workplace Chat (theintercept.com)\n",
      "        20 points by aaronbrethorst 42 minutes ago  | hide | 3&nbsp;comments              \n",
      "      \n",
      "                \n",
      "      15.      Global air pollution maps by the European Space Agency (esa.int)\n",
      "        171 points by walterbell 12 hours ago  | hide | 61&nbsp;comments              \n",
      "      \n",
      "                \n",
      "      16.      The antitrust case against Google (yale.edu)\n",
      "        215 points by lawrenceyan 12 hours ago  | hide | 173&nbsp;comments              \n",
      "      \n",
      "                \n",
      "      17.      MIT Ends Elsevier Negotiations (news.mit.edu)\n",
      "        930 points by davrosthedalek 16 hours ago  | hide | 227&nbsp;comments              \n",
      "      \n",
      "                \n",
      "      18.      The utilitarian pleasures of playing board games by yourself (atlasobscura.com)\n",
      "        28 points by exanimo_sai 5 hours ago  | hide | 11&nbsp;comments              \n",
      "      \n",
      "                \n",
      "      19.      The Center of the Pixel is (0.5, 0.5) (realtimerendering.com)\n",
      "        113 points by ingve 12 hours ago  | hide | 56&nbsp;comments              \n",
      "      \n",
      "                \n",
      "      20.      GitLab acquires Peach Tech and Fuzzit (gitlab.com)\n",
      "        81 points by factorialboy 11 hours ago  | hide | 24&nbsp;comments              \n",
      "      \n",
      "                \n",
      "      21.      Dexplot: Python library for data visualization (dexplo.org)\n",
      "        33 points by illuminated 5 hours ago  | hide | 8&nbsp;comments              \n",
      "      \n",
      "                \n",
      "      22.      SatNOGS: Open-Source Ground Station Network (satnogs.org)\n",
      "        43 points by Tomte 9 hours ago  | hide | 4&nbsp;comments              \n",
      "      \n",
      "                \n",
      "      23.      Why whales sing: it’s a question of culture (spectator.co.uk)\n",
      "        9 points by tintinnabula 3 hours ago  | hide | discuss              \n",
      "      \n",
      "                \n",
      "      24.      Why Skylake CPUs Are Sometimes 50% Slower (2018) (aloiskraus.wordpress.com)\n",
      "        100 points by wheresvic4 8 hours ago  | hide | 34&nbsp;comments              \n",
      "      \n",
      "                \n",
      "      25.      Bigger v. Facebook, Inc. (harvardlawreview.org)\n",
      "        101 points by hhs 11 hours ago  | hide | 21&nbsp;comments              \n",
      "      \n",
      "                \n",
      "      26.      Ask HN: My wife might lose the ability to speak in 3 weeks – how to prepare?\n",
      "        780 points by tech4all 15 hours ago  | hide | 201&nbsp;comments              \n",
      "      \n",
      "                \n",
      "      27.      Spark joy by running fewer tests (shopify.com)\n",
      "        103 points by caution 11 hours ago  | hide | 69&nbsp;comments              \n",
      "      \n",
      "                \n",
      "      28.      Cantor function, a.k.a. devil's staircase (wikipedia.org)\n",
      "        67 points by memexy 10 hours ago  | hide | 26&nbsp;comments              \n",
      "      \n",
      "                \n",
      "      29.      OpenAI API (openai.com)\n",
      "        438 points by gdb 15 hours ago  | hide | 135&nbsp;comments              \n",
      "      \n",
      "                \n",
      "      30.      EUA Authorized Serology Test Performance (fda.gov)\n",
      "        20 points by wyndham 7 hours ago  | hide | 5&nbsp;comments              \n",
      "      \n",
      "            More\n",
      "  \n",
      "\n",
      "Guidelines\n",
      "        | FAQ\n",
      "        | Support\n",
      "        | API\n",
      "        | Security\n",
      "        | Lists\n",
      "        | Bookmarklet\n",
      "        | Legal\n",
      "        | Apply to YC\n",
      "        | ContactSearch:\n",
      "          \n",
      "            \n",
      "      \n",
      "\n"
     ]
    }
   ],
   "source": [
    "import re\n",
    "\n",
    "# Remove HTML tags using RegEx\n",
    "pattern = re.compile(r'<.*?>')  # tags look like <...>\n",
    "print(pattern.sub('', r.text))  # replace them with blank"
   ]
  },
  {
   "cell_type": "code",
   "execution_count": 10,
   "metadata": {},
   "outputs": [
    {
     "name": "stdout",
     "output_type": "stream",
     "text": [
      "\n",
      "        \n",
      "          \n",
      "        Hacker News\n",
      "        \n",
      "                  Hacker News\n",
      "              new | past | comments | ask | show | jobs | submit            \n",
      "                              login\n",
      "                          \n",
      "              \n",
      "\n",
      "              \n",
      "      1.      University of the People: Tuition-Free, Accredited Online Degree Programs (uopeople.edu)\n",
      "        379 points by tomato2juice 7 hours ago  | hide | 186 comments              \n",
      "      \n",
      "                \n",
      "      2.      A Facebook crawler was making 7M requests per day to my stupid website (napolux.com)\n",
      "        875 points by napolux 14 hours ago  | hide | 354 comments              \n",
      "      \n",
      "                \n",
      "      3.      Jim Keller Resigns from Intel, Effective Immediately (anandtech.com)\n",
      "        69 points by virtualwhys 2 hours ago  | hide | 5 comments              \n",
      "      \n",
      "                \n",
      "      4.      Show HN: Download Hi-Res Public Domain Art, Posters and Illustrations (artvee.com)\n",
      "        376 points by therecb 12 hours ago  | hide | 35 comments              \n",
      "      \n",
      "                \n",
      "      5.      How to implement search-by-color when all you have is a good coffee (mikealche.com)\n",
      "        90 points by helloiloveyou 5 hours ago  | hide | 22 comments              \n",
      "      \n",
      "                \n",
      "      6.      The Mathematics of Music [pdf] (imaginary.org)\n",
      "        13 points by kondor 1 hour ago  | hide | 4 comments              \n",
      "      \n",
      "                \n",
      "      7.      Is Dark Mode Such a Good Idea? (kevq.uk)\n",
      "        122 points by kdrag0n 5 hours ago  | hide | 146 comments              \n",
      "      \n",
      "                \n",
      "      8.      The yuan has been one of the world’s most stable major currencies (economist.com)\n",
      "        18 points by known 2 hours ago  | hide | 13 comments              \n",
      "      \n",
      "                \n",
      "      9.      Show HN: Marple – Visualising millions of datapoints for engineers (getmarple.io)\n",
      "        50 points by NeroVanbierv 4 hours ago  | hide | 12 comments              \n",
      "      \n",
      "                \n",
      "      10.      Disclosing networks of state-linked information operations we’ve removed (blog.twitter.com)\n",
      "        111 points by mpweiher 9 hours ago  | hide | 48 comments              \n",
      "      \n",
      "                \n",
      "      11.      New research helps unravel how vast amounts of plastic particles travel (scientificamerican.com)\n",
      "        55 points by woofyman 6 hours ago  | hide | 4 comments              \n",
      "      \n",
      "                \n",
      "      12.      What to write down when you’re reading to learn (acesounderglass.com)\n",
      "        175 points by luu 11 hours ago  | hide | 22 comments              \n",
      "      \n",
      "                \n",
      "      13.      Xrdp: An open source RDP server (github.com)\n",
      "        156 points by tomato2juice 11 hours ago  | hide | 60 comments              \n",
      "      \n",
      "                \n",
      "      14.      New Facebook Tool Allows Employers to Suppress “Unionize” in Workplace Chat (theintercept.com)\n",
      "        20 points by aaronbrethorst 42 minutes ago  | hide | 3 comments              \n",
      "      \n",
      "                \n",
      "      15.      Global air pollution maps by the European Space Agency (esa.int)\n",
      "        171 points by walterbell 12 hours ago  | hide | 61 comments              \n",
      "      \n",
      "                \n",
      "      16.      The antitrust case against Google (yale.edu)\n",
      "        215 points by lawrenceyan 12 hours ago  | hide | 173 comments              \n",
      "      \n",
      "                \n",
      "      17.      MIT Ends Elsevier Negotiations (news.mit.edu)\n",
      "        930 points by davrosthedalek 16 hours ago  | hide | 227 comments              \n",
      "      \n",
      "                \n",
      "      18.      The utilitarian pleasures of playing board games by yourself (atlasobscura.com)\n",
      "        28 points by exanimo_sai 5 hours ago  | hide | 11 comments              \n",
      "      \n",
      "                \n",
      "      19.      The Center of the Pixel is (0.5, 0.5) (realtimerendering.com)\n",
      "        113 points by ingve 12 hours ago  | hide | 56 comments              \n",
      "      \n",
      "                \n",
      "      20.      GitLab acquires Peach Tech and Fuzzit (gitlab.com)\n",
      "        81 points by factorialboy 11 hours ago  | hide | 24 comments              \n",
      "      \n",
      "                \n",
      "      21.      Dexplot: Python library for data visualization (dexplo.org)\n",
      "        33 points by illuminated 5 hours ago  | hide | 8 comments              \n",
      "      \n",
      "                \n",
      "      22.      SatNOGS: Open-Source Ground Station Network (satnogs.org)\n",
      "        43 points by Tomte 9 hours ago  | hide | 4 comments              \n",
      "      \n",
      "                \n",
      "      23.      Why whales sing: it’s a question of culture (spectator.co.uk)\n",
      "        9 points by tintinnabula 3 hours ago  | hide | discuss              \n",
      "      \n",
      "                \n",
      "      24.      Why Skylake CPUs Are Sometimes 50% Slower (2018) (aloiskraus.wordpress.com)\n",
      "        100 points by wheresvic4 8 hours ago  | hide | 34 comments              \n",
      "      \n",
      "                \n",
      "      25.      Bigger v. Facebook, Inc. (harvardlawreview.org)\n",
      "        101 points by hhs 11 hours ago  | hide | 21 comments              \n",
      "      \n",
      "                \n",
      "      26.      Ask HN: My wife might lose the ability to speak in 3 weeks – how to prepare?\n",
      "        780 points by tech4all 15 hours ago  | hide | 201 comments              \n",
      "      \n",
      "                \n",
      "      27.      Spark joy by running fewer tests (shopify.com)\n",
      "        103 points by caution 11 hours ago  | hide | 69 comments              \n",
      "      \n",
      "                \n",
      "      28.      Cantor function, a.k.a. devil's staircase (wikipedia.org)\n",
      "        67 points by memexy 10 hours ago  | hide | 26 comments              \n",
      "      \n",
      "                \n",
      "      29.      OpenAI API (openai.com)\n",
      "        438 points by gdb 15 hours ago  | hide | 135 comments              \n",
      "      \n",
      "                \n",
      "      30.      EUA Authorized Serology Test Performance (fda.gov)\n",
      "        20 points by wyndham 7 hours ago  | hide | 5 comments              \n",
      "      \n",
      "            More\n",
      "  \n",
      "\n",
      "Guidelines\n",
      "        | FAQ\n",
      "        | Support\n",
      "        | API\n",
      "        | Security\n",
      "        | Lists\n",
      "        | Bookmarklet\n",
      "        | Legal\n",
      "        | Apply to YC\n",
      "        | ContactSearch:\n",
      "          \n",
      "            \n",
      "      \n",
      "\n"
     ]
    }
   ],
   "source": [
    "from bs4 import BeautifulSoup\n",
    "\n",
    "# Remove HTML tags using Beautiful Soup library\n",
    "soup = BeautifulSoup(r.text, \"html5lib\")\n",
    "print(soup.get_text())"
   ]
  },
  {
   "cell_type": "code",
   "execution_count": 11,
   "metadata": {
    "scrolled": true
   },
   "outputs": [
    {
     "data": {
      "text/plain": [
       "<tr class=\"athing\" id=\"23494366\">\n",
       "      <td align=\"right\" class=\"title\" valign=\"top\"><span class=\"rank\">1.</span></td>      <td class=\"votelinks\" valign=\"top\"><center><a href=\"vote?id=23494366&amp;how=up&amp;goto=news\" id=\"up_23494366\"><div class=\"votearrow\" title=\"upvote\"></div></a></center></td><td class=\"title\"><a class=\"storylink\" href=\"https://www.uopeople.edu/\">University of the People: Tuition-Free, Accredited Online Degree Programs</a><span class=\"sitebit comhead\"> (<a href=\"from?site=uopeople.edu\"><span class=\"sitestr\">uopeople.edu</span></a>)</span></td></tr>"
      ]
     },
     "execution_count": 11,
     "metadata": {},
     "output_type": "execute_result"
    }
   ],
   "source": [
    "# Find all articles\n",
    "summaries = soup.find_all(\"tr\", class_=\"athing\")\n",
    "summaries[0]"
   ]
  },
  {
   "cell_type": "code",
   "execution_count": 14,
   "metadata": {},
   "outputs": [
    {
     "data": {
      "text/plain": [
       "'University of the People: Tuition-Free, Accredited Online Degree Programs'"
      ]
     },
     "execution_count": 14,
     "metadata": {},
     "output_type": "execute_result"
    }
   ],
   "source": [
    "# Extract title\n",
    "summaries[0].find(\"a\", class_=\"storylink\").get_text().strip()"
   ]
  },
  {
   "cell_type": "code",
   "execution_count": 15,
   "metadata": {},
   "outputs": [
    {
     "name": "stdout",
     "output_type": "stream",
     "text": [
      "30 Article summaries found. Sample:\n",
      "University of the People: Tuition-Free, Accredited Online Degree Programs\n"
     ]
    }
   ],
   "source": [
    "# Find all articles, extract titles\n",
    "articles = []\n",
    "summaries = soup.find_all(\"tr\", class_=\"athing\")\n",
    "for summary in summaries:\n",
    "    title = summary.find(\"a\", class_=\"storylink\").get_text().strip()\n",
    "    articles.append((title))\n",
    "\n",
    "print(len(articles), \"Article summaries found. Sample:\")\n",
    "print(articles[0])"
   ]
  },
  {
   "cell_type": "markdown",
   "metadata": {
    "collapsed": true
   },
   "source": [
    "## Normalization"
   ]
  },
  {
   "cell_type": "markdown",
   "metadata": {},
   "source": [
    "### Case Normalization"
   ]
  },
  {
   "cell_type": "code",
   "execution_count": 16,
   "metadata": {},
   "outputs": [
    {
     "name": "stdout",
     "output_type": "stream",
     "text": [
      "The first time you see The Second Renaissance it may look boring. Look at it at least twice and definitely watch part 2. It will change your view of the matrix. Are the human people the ones who started the war ? Is AI a bad thing ?\n"
     ]
    }
   ],
   "source": [
    "# Sample text\n",
    "text = \"The first time you see The Second Renaissance it may look boring. Look at it at least twice and definitely watch part 2. It will change your view of the matrix. Are the human people the ones who started the war ? Is AI a bad thing ?\"\n",
    "print(text)"
   ]
  },
  {
   "cell_type": "code",
   "execution_count": 17,
   "metadata": {},
   "outputs": [
    {
     "name": "stdout",
     "output_type": "stream",
     "text": [
      "the first time you see the second renaissance it may look boring. look at it at least twice and definitely watch part 2. it will change your view of the matrix. are the human people the ones who started the war ? is ai a bad thing ?\n"
     ]
    }
   ],
   "source": [
    "# Convert to lowercase\n",
    "text = text.lower() \n",
    "print(text)"
   ]
  },
  {
   "cell_type": "markdown",
   "metadata": {},
   "source": [
    "### Punctuation Removal"
   ]
  },
  {
   "cell_type": "code",
   "execution_count": 18,
   "metadata": {},
   "outputs": [
    {
     "name": "stdout",
     "output_type": "stream",
     "text": [
      "the first time you see the second renaissance it may look boring  look at it at least twice and definitely watch part 2  it will change your view of the matrix  are the human people the ones who started the war   is ai a bad thing  \n"
     ]
    }
   ],
   "source": [
    "import re\n",
    "\n",
    "# Remove punctuation characters\n",
    "text = re.sub(r\"[^a-zA-Z0-9]\", \" \", text) \n",
    "print(text)"
   ]
  },
  {
   "cell_type": "markdown",
   "metadata": {},
   "source": [
    "## Tokenization"
   ]
  },
  {
   "cell_type": "code",
   "execution_count": 19,
   "metadata": {},
   "outputs": [
    {
     "name": "stdout",
     "output_type": "stream",
     "text": [
      "['the', 'first', 'time', 'you', 'see', 'the', 'second', 'renaissance', 'it', 'may', 'look', 'boring', 'look', 'at', 'it', 'at', 'least', 'twice', 'and', 'definitely', 'watch', 'part', '2', 'it', 'will', 'change', 'your', 'view', 'of', 'the', 'matrix', 'are', 'the', 'human', 'people', 'the', 'ones', 'who', 'started', 'the', 'war', 'is', 'ai', 'a', 'bad', 'thing']\n"
     ]
    }
   ],
   "source": [
    "# Split text into tokens (words)\n",
    "words = text.split()\n",
    "print(words)"
   ]
  },
  {
   "cell_type": "markdown",
   "metadata": {},
   "source": [
    "### NLTK: Natural Language ToolKit"
   ]
  },
  {
   "cell_type": "code",
   "execution_count": 20,
   "metadata": {},
   "outputs": [],
   "source": [
    "import os\n",
    "import nltk\n",
    "nltk.data.path.append(os.path.join(os.getcwd(), \"nltk_data\"))"
   ]
  },
  {
   "cell_type": "code",
   "execution_count": 21,
   "metadata": {},
   "outputs": [
    {
     "name": "stdout",
     "output_type": "stream",
     "text": [
      "Dr. Smith graduated from the University of Washington. He later started an analytics firm called Lux, which catered to enterprise customers.\n"
     ]
    }
   ],
   "source": [
    "# Another sample text\n",
    "text = \"Dr. Smith graduated from the University of Washington. He later started an analytics firm called Lux, which catered to enterprise customers.\"\n",
    "print(text)"
   ]
  },
  {
   "cell_type": "code",
   "execution_count": 22,
   "metadata": {},
   "outputs": [
    {
     "name": "stdout",
     "output_type": "stream",
     "text": [
      "['Dr.', 'Smith', 'graduated', 'from', 'the', 'University', 'of', 'Washington', '.', 'He', 'later', 'started', 'an', 'analytics', 'firm', 'called', 'Lux', ',', 'which', 'catered', 'to', 'enterprise', 'customers', '.']\n"
     ]
    }
   ],
   "source": [
    "from nltk.tokenize import word_tokenize\n",
    "\n",
    "# Split text into words using NLTK\n",
    "words = word_tokenize(text)\n",
    "print(words)"
   ]
  },
  {
   "cell_type": "code",
   "execution_count": 23,
   "metadata": {},
   "outputs": [
    {
     "name": "stdout",
     "output_type": "stream",
     "text": [
      "['Dr. Smith graduated from the University of Washington.', 'He later started an analytics firm called Lux, which catered to enterprise customers.']\n"
     ]
    }
   ],
   "source": [
    "from nltk.tokenize import sent_tokenize\n",
    "\n",
    "# Split text into sentences\n",
    "sentences = sent_tokenize(text)\n",
    "print(sentences)"
   ]
  },
  {
   "cell_type": "code",
   "execution_count": 24,
   "metadata": {},
   "outputs": [
    {
     "name": "stdout",
     "output_type": "stream",
     "text": [
      "['i', 'me', 'my', 'myself', 'we', 'our', 'ours', 'ourselves', 'you', \"you're\", \"you've\", \"you'll\", \"you'd\", 'your', 'yours', 'yourself', 'yourselves', 'he', 'him', 'his', 'himself', 'she', \"she's\", 'her', 'hers', 'herself', 'it', \"it's\", 'its', 'itself', 'they', 'them', 'their', 'theirs', 'themselves', 'what', 'which', 'who', 'whom', 'this', 'that', \"that'll\", 'these', 'those', 'am', 'is', 'are', 'was', 'were', 'be', 'been', 'being', 'have', 'has', 'had', 'having', 'do', 'does', 'did', 'doing', 'a', 'an', 'the', 'and', 'but', 'if', 'or', 'because', 'as', 'until', 'while', 'of', 'at', 'by', 'for', 'with', 'about', 'against', 'between', 'into', 'through', 'during', 'before', 'after', 'above', 'below', 'to', 'from', 'up', 'down', 'in', 'out', 'on', 'off', 'over', 'under', 'again', 'further', 'then', 'once', 'here', 'there', 'when', 'where', 'why', 'how', 'all', 'any', 'both', 'each', 'few', 'more', 'most', 'other', 'some', 'such', 'no', 'nor', 'not', 'only', 'own', 'same', 'so', 'than', 'too', 'very', 's', 't', 'can', 'will', 'just', 'don', \"don't\", 'should', \"should've\", 'now', 'd', 'll', 'm', 'o', 're', 've', 'y', 'ain', 'aren', \"aren't\", 'couldn', \"couldn't\", 'didn', \"didn't\", 'doesn', \"doesn't\", 'hadn', \"hadn't\", 'hasn', \"hasn't\", 'haven', \"haven't\", 'isn', \"isn't\", 'ma', 'mightn', \"mightn't\", 'mustn', \"mustn't\", 'needn', \"needn't\", 'shan', \"shan't\", 'shouldn', \"shouldn't\", 'wasn', \"wasn't\", 'weren', \"weren't\", 'won', \"won't\", 'wouldn', \"wouldn't\"]\n"
     ]
    }
   ],
   "source": [
    "# List stop words\n",
    "from nltk.corpus import stopwords\n",
    "print(stopwords.words(\"english\"))"
   ]
  },
  {
   "cell_type": "code",
   "execution_count": 25,
   "metadata": {},
   "outputs": [
    {
     "name": "stdout",
     "output_type": "stream",
     "text": [
      "['the', 'first', 'time', 'you', 'see', 'the', 'second', 'renaissance', 'it', 'may', 'look', 'boring', 'look', 'at', 'it', 'at', 'least', 'twice', 'and', 'definitely', 'watch', 'part', '2', 'it', 'will', 'change', 'your', 'view', 'of', 'the', 'matrix', 'are', 'the', 'human', 'people', 'the', 'ones', 'who', 'started', 'the', 'war', 'is', 'ai', 'a', 'bad', 'thing']\n"
     ]
    }
   ],
   "source": [
    "# Reset text\n",
    "text = \"The first time you see The Second Renaissance it may look boring. Look at it at least twice and definitely watch part 2. It will change your view of the matrix. Are the human people the ones who started the war ? Is AI a bad thing ?\"\n",
    "\n",
    "# Normalize it\n",
    "text = re.sub(r\"[^a-zA-Z0-9]\", \" \", text.lower())\n",
    "\n",
    "# Tokenize it\n",
    "words = text.split()\n",
    "print(words)"
   ]
  },
  {
   "cell_type": "code",
   "execution_count": 26,
   "metadata": {},
   "outputs": [
    {
     "name": "stdout",
     "output_type": "stream",
     "text": [
      "['first', 'time', 'see', 'second', 'renaissance', 'may', 'look', 'boring', 'look', 'least', 'twice', 'definitely', 'watch', 'part', '2', 'change', 'view', 'matrix', 'human', 'people', 'ones', 'started', 'war', 'ai', 'bad', 'thing']\n"
     ]
    }
   ],
   "source": [
    "# Remove stop words\n",
    "words = [w for w in words if w not in stopwords.words(\"english\")]\n",
    "print(words)"
   ]
  },
  {
   "cell_type": "markdown",
   "metadata": {},
   "source": [
    "### Sentence Parsing"
   ]
  },
  {
   "cell_type": "code",
   "execution_count": 27,
   "metadata": {},
   "outputs": [
    {
     "name": "stdout",
     "output_type": "stream",
     "text": [
      "(S\n",
      "  (NP I)\n",
      "  (VP\n",
      "    (VP (V shot) (NP (Det an) (N elephant)))\n",
      "    (PP (P in) (NP (Det my) (N pajamas)))))\n",
      "(S\n",
      "  (NP I)\n",
      "  (VP\n",
      "    (V shot)\n",
      "    (NP (Det an) (N elephant) (PP (P in) (NP (Det my) (N pajamas))))))\n"
     ]
    }
   ],
   "source": [
    "import nltk\n",
    "\n",
    "# Define a custom grammar\n",
    "my_grammar = nltk.CFG.fromstring(\"\"\"\n",
    "S -> NP VP\n",
    "PP -> P NP\n",
    "NP -> Det N | Det N PP | 'I'\n",
    "VP -> V NP | VP PP\n",
    "Det -> 'an' | 'my'\n",
    "N -> 'elephant' | 'pajamas'\n",
    "V -> 'shot'\n",
    "P -> 'in'\n",
    "\"\"\")\n",
    "parser = nltk.ChartParser(my_grammar)\n",
    "\n",
    "# Parse a sentence\n",
    "sentence = word_tokenize(\"I shot an elephant in my pajamas\")\n",
    "for tree in parser.parse(sentence):\n",
    "    print(tree)"
   ]
  },
  {
   "cell_type": "markdown",
   "metadata": {},
   "source": [
    "## Stemming & Lemmatization\n",
    "\n",
    "### Stemming"
   ]
  },
  {
   "cell_type": "code",
   "execution_count": 28,
   "metadata": {},
   "outputs": [
    {
     "name": "stdout",
     "output_type": "stream",
     "text": [
      "['first', 'time', 'see', 'second', 'renaiss', 'may', 'look', 'bore', 'look', 'least', 'twice', 'definit', 'watch', 'part', '2', 'chang', 'view', 'matrix', 'human', 'peopl', 'one', 'start', 'war', 'ai', 'bad', 'thing']\n"
     ]
    }
   ],
   "source": [
    "from nltk.stem.porter import PorterStemmer\n",
    "\n",
    "# Reduce words to their stems\n",
    "stemmed = [PorterStemmer().stem(w) for w in words]\n",
    "print(stemmed)"
   ]
  },
  {
   "cell_type": "markdown",
   "metadata": {},
   "source": [
    "### Lemmatization"
   ]
  },
  {
   "cell_type": "code",
   "execution_count": 29,
   "metadata": {},
   "outputs": [
    {
     "name": "stdout",
     "output_type": "stream",
     "text": [
      "['first', 'time', 'see', 'second', 'renaissance', 'may', 'look', 'boring', 'look', 'least', 'twice', 'definitely', 'watch', 'part', '2', 'change', 'view', 'matrix', 'human', 'people', 'one', 'started', 'war', 'ai', 'bad', 'thing']\n"
     ]
    }
   ],
   "source": [
    "from nltk.stem.wordnet import WordNetLemmatizer\n",
    "\n",
    "# Reduce words to their root form\n",
    "lemmed = [WordNetLemmatizer().lemmatize(w) for w in words]\n",
    "print(lemmed)"
   ]
  },
  {
   "cell_type": "code",
   "execution_count": 30,
   "metadata": {},
   "outputs": [
    {
     "name": "stdout",
     "output_type": "stream",
     "text": [
      "['first', 'time', 'see', 'second', 'renaissance', 'may', 'look', 'bore', 'look', 'least', 'twice', 'definitely', 'watch', 'part', '2', 'change', 'view', 'matrix', 'human', 'people', 'one', 'start', 'war', 'ai', 'bad', 'thing']\n"
     ]
    }
   ],
   "source": [
    "# Lemmatize verbs by specifying pos\n",
    "lemmed = [WordNetLemmatizer().lemmatize(w, pos='v') for w in lemmed]\n",
    "print(lemmed)"
   ]
  },
  {
   "cell_type": "code",
   "execution_count": null,
   "metadata": {},
   "outputs": [],
   "source": []
  }
 ],
 "metadata": {
  "kernelspec": {
   "display_name": "Python 3",
   "language": "python",
   "name": "python3"
  },
  "language_info": {
   "codemirror_mode": {
    "name": "ipython",
    "version": 3
   },
   "file_extension": ".py",
   "mimetype": "text/x-python",
   "name": "python",
   "nbconvert_exporter": "python",
   "pygments_lexer": "ipython3",
   "version": "3.6.3"
  }
 },
 "nbformat": 4,
 "nbformat_minor": 2
}
